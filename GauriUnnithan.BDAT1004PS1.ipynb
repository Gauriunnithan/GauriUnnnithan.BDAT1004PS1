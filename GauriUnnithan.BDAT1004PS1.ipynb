{
 "cells": [
  {
   "cell_type": "markdown",
   "id": "17b98f51",
   "metadata": {},
   "source": [
    "# Q1. What data type is each of the following?\n"
   ]
  },
  {
   "cell_type": "markdown",
   "id": "a007797a",
   "metadata": {},
   "source": [
    "5 - Integer\n",
    "\n",
    "5.0 - Float\n",
    "    \n",
    "5>1 - Boolean\n",
    "\n",
    "'5' - Character\n",
    "\n",
    "5*2 - Integer\n",
    "\n",
    "'5' * 2 - String\n",
    "\n",
    "'5' + '2' - String\n",
    "\n",
    "5/2 - Float\n",
    "\n",
    "5%2 - Integer\n",
    "\n",
    "{5, 2, 1} - Set\n",
    "\n",
    "5 == 3 - Boolean\n",
    "\n",
    "Pi (the number) - Double"
   ]
  },
  {
   "cell_type": "markdown",
   "id": "be67ec67",
   "metadata": {},
   "source": [
    "# Q2. Write (and evaluate) C# expressions that answer these questions:"
   ]
  },
  {
   "cell_type": "markdown",
   "id": "27e50d78",
   "metadata": {},
   "source": [
    "# a. How many letters are there in 'Supercalifragilisticexpialidocious'?\n",
    "\n",
    "\n",
    "![title](Q2(a).png)"
   ]
  },
  {
   "cell_type": "markdown",
   "id": "18e1e9a3",
   "metadata": {},
   "source": [
    "# b. Does 'Supercalifragilisticexpialidocious' contain 'ice' as a substring?\n",
    "\n",
    "![title](Q2(b).png)"
   ]
  },
  {
   "cell_type": "markdown",
   "id": "29b75c41",
   "metadata": {},
   "source": [
    "# c. Which of the following words is the longest: Supercalifragilisticexpialidocious, Honorificabilitudinitatibus, or Bababadalgharaghtakamminarronnkonn?\n",
    "\n",
    "![title](Q2(c).png)"
   ]
  },
  {
   "cell_type": "markdown",
   "id": "4e761b48",
   "metadata": {},
   "source": [
    "# d. Which composer comes first in the dictionary: 'Berlioz', 'Borodin', 'Brian', 'Bartok', 'Bellini', 'Buxtehude', 'Bernstein'. Which one comes last?\n",
    "\n",
    "![title](Q2(d).png)\n"
   ]
  },
  {
   "cell_type": "markdown",
   "id": "98e7ce88",
   "metadata": {},
   "source": [
    "# Q3. Implement function triangleArea(a,b,c) that takes as input the lengths of the 3 sides of a triangle and returns the area of the triangle. By Heron's formula, the area of a triangle with side lengths a, b, and c is s(s-a)(s-b)(s-c), where s=(a+b+c)/2.\n",
    "\n"
   ]
  },
  {
   "cell_type": "markdown",
   "id": "2ac26e83",
   "metadata": {},
   "source": [
    "https://www.geeksforgeeks.org/c-sharp-math-sqrt-method/ - To calculate square root.\n",
    "\n",
    "![title](Q3.png)"
   ]
  },
  {
   "cell_type": "markdown",
   "id": "c4bff4d2",
   "metadata": {},
   "source": [
    "#  Q4. Write a program in C# Sharp to separate odd and even integers in separate arrays.\n",
    "\n",
    "Test Data :\n",
    "Input the number of elements to be stored in the array :5\n",
    "Input 5 elements in the array : element - 0 : 25\n",
    "element - 1 : 47\n",
    "element - 2 : 42\n",
    "element - 3 : 56 element - 4 : 32"
   ]
  },
  {
   "cell_type": "markdown",
   "id": "f514287b",
   "metadata": {},
   "source": [
    "https://www.tutorialspoint.com/How-to-read-inputs-as-integers-in-Chash - to use ToInt32 method\n",
    "\n",
    "![title](Q4.png)"
   ]
  },
  {
   "cell_type": "markdown",
   "id": "675583d5",
   "metadata": {},
   "source": [
    "# Q5.(a) a. Write a function inside(x,y,x1,y1,x2,y2) that returns True or False depending on whether the point (x,y) lies in the rectangle with lower left corner (x1,y1) and upper right corner (x2,y2).\n",
    "     "
   ]
  },
  {
   "cell_type": "markdown",
   "id": "5dc22e99",
   "metadata": {},
   "source": [
    "![title](Q5(a).png)"
   ]
  },
  {
   "cell_type": "markdown",
   "id": "4a44f203",
   "metadata": {},
   "source": [
    "# Q.5(b) Use function inside() from part a. to write an expression that tests whether the point (1,1) lies in both of the following rectangles:\n",
    "one with lower left corner (0.3, 0.5) and upper right corner (1.1, 0.7) and the other with lower left corner (0.5, 0.2) and upper right corner (1.1, 2).\n",
    "\n",
    "\n",
    "https://stackoverflow.com/questions/7238248/why-is-there-no-convert-tofloat-method - ToSingle method"
   ]
  },
  {
   "cell_type": "markdown",
   "id": "685f1184",
   "metadata": {},
   "source": [
    "![title](Q5(b).png)"
   ]
  },
  {
   "cell_type": "markdown",
   "id": "a828efb0",
   "metadata": {},
   "source": [
    "# Q6. Write a function pig() that takes a word (i.e., a string) as input and returns its pig- Latin form. Your function should still work if the input word contains upper case characters. Your output should always be lower case however.\n",
    "\n",
    "•If the word starts with a consonant, move that letter to the end and append\n",
    "'ay'.For example, 'happy' becomes 'appyhay' and 'pencil' becomes 'encilpay'.\n",
    "\n",
    "• If the word starts with a vowel, simply append 'way' to the end of the word.\n",
    "For example, 'enter' becomes 'enterway' and 'other' becomes 'otherway' . For\n",
    "our purposes, there are 5 vowels: a, e, i, o, u (so we count y as a consonant)."
   ]
  },
  {
   "cell_type": "code",
   "execution_count": 1,
   "id": "d5e51a8f",
   "metadata": {},
   "outputs": [
    {
     "name": "stdout",
     "output_type": "stream",
     "text": [
      "appyhay\n",
      "enterway\n"
     ]
    }
   ],
   "source": [
    "def pig(strr):\n",
    "    strr = str.lower(strr);\n",
    "    vowel = \"aeiou\"\n",
    "    \n",
    "    if (strr[0] in vowel):\n",
    "        strr = strr + \"way\"\n",
    "        \n",
    "    else:\n",
    "        temp = strr[0]\n",
    "        strr = strr[1:]\n",
    "        strr = strr + temp + \"ay\"\n",
    "    print(strr);\n",
    "\n",
    "\n",
    "pig(\"happy\")\n",
    "pig(\"Enter\")"
   ]
  },
  {
   "cell_type": "markdown",
   "id": "54f35f0f",
   "metadata": {},
   "source": [
    "# Q7. File bloodtype1.txt records blood-types of patients (A, B, AB, O or OO) at a clinic. Write a function bldcount() that reads the file with name name and reports (i.e., prints) how many patients there are in each bloodtype.\n",
    "\n"
   ]
  },
  {
   "cell_type": "code",
   "execution_count": 2,
   "id": "b0ea1e31",
   "metadata": {},
   "outputs": [
    {
     "name": "stdout",
     "output_type": "stream",
     "text": [
      "There are  15 patients of blood type A\n",
      "There are  13 patients of blood type AB\n",
      "There are  1 patients of blood type b\n",
      "There are  15 patients of blood type O\n",
      "There are  0 patients of blood type OO\n"
     ]
    }
   ],
   "source": [
    "file = open(\"bloodtype.txt\",\"r\")\n",
    "bloodType = file.read().split(\" \")\n",
    "a = 0\n",
    "ab = 0\n",
    "b = 0\n",
    "o = 0\n",
    "oo = 0\n",
    "\n",
    "for bg in bloodType:\n",
    "    if bg == \"A\":\n",
    "        a += 1\n",
    "    elif bg == \"AB\":\n",
    "        ab += 1\n",
    "    elif bg == \"B\":\n",
    "        b += 1  \n",
    "    elif bg == \"O\":\n",
    "        o += 1\n",
    "    elif bg == \"OO\":\n",
    "        oo += 1 \n",
    "    elif bg == \"\\n\":\n",
    "        break\n",
    "\n",
    "\n",
    "print(\"There are \", a , \"patients of blood type A\" )\n",
    "print(\"There are \", ab , \"patients of blood type AB\" )\n",
    "print(\"There are \", b , \"patients of blood type b\" )\n",
    "print(\"There are \", o , \"patients of blood type O\" )\n",
    "print(\"There are \", oo , \"patients of blood type OO\" )"
   ]
  },
  {
   "cell_type": "markdown",
   "id": "9ec59f64",
   "metadata": {},
   "source": [
    "# Q8. Write a function curconv() that takes as input:\n",
    "# 1. a currency represented using a string (e.g., 'JPY' for the Japanese Yen or 'EUR' for the Euro)\n",
    "# 2. an amount\n",
    "# and then converts and returns the amount in US dollars.\n"
   ]
  },
  {
   "cell_type": "code",
   "execution_count": 3,
   "id": "4263651f",
   "metadata": {},
   "outputs": [
    {
     "name": "stdout",
     "output_type": "stream",
     "text": [
      "122.96544\n",
      "1.241401\n"
     ]
    }
   ],
   "source": [
    "def curconv(currency,amount):\n",
    "    file = open(\"currencies.txt\", \"r\")\n",
    "    fileRead = file.readlines()\n",
    "    file.close()\n",
    "    for file in fileRead :\n",
    "        group = file.split()\n",
    "        if currency == group[0]:\n",
    "            rate = float(group[1])\n",
    "            value = amount * rate\n",
    "        \n",
    "    print(value)   \n",
    "        \n",
    "curconv('EUR',100)\n",
    "curconv('JPY',100)"
   ]
  },
  {
   "cell_type": "markdown",
   "id": "81721874",
   "metadata": {},
   "source": [
    "# Q9. Each of the following will cause an exception (an error). Identify what type of exception each will cause."
   ]
  },
  {
   "cell_type": "markdown",
   "id": "0bbeb6fe",
   "metadata": {},
   "source": [
    "Trying to add incompatible variables, as in adding 6 + ‘a’     - TypeError\n",
    "\n",
    "Referring to the 12th item of a list that has only 10 items      - IndexError \n",
    "\n",
    "Using a value that is out of range for a function’s input, such as calling math.sqrt(-1.0)     -  ValueError\n",
    "\n",
    "Using an undeclared variable, such as print(x) when x has not been defined      - NameError\n",
    "\n",
    "Trying to open a file that does not exist, such as mistyping the file name or looking in the wrong directory.      - FileNotFoundError"
   ]
  },
  {
   "cell_type": "markdown",
   "id": "dd98d9a5",
   "metadata": {},
   "source": [
    "# Q10. Assume that the string letters is already defined as 'abcdefghijklmnopqrstuvwxyz'. Write a function called frequencies() that takes a string as its only parameter, and returns a list of integers, showing the number of times each character appears in the text. Your function may ignore any characters that are not in letters.\n",
    "\n",
    "https://stackoverflow.com/questions/4056768/how-to-declare-array-of-zeros-in-python-or-an-array-of-a-certain-size - array declaration"
   ]
  },
  {
   "cell_type": "code",
   "execution_count": 4,
   "id": "6b2b9390",
   "metadata": {},
   "outputs": [
    {
     "name": "stdout",
     "output_type": "stream",
     "text": [
      "[1, 1, 1, 3, 5, 1, 1, 2, 1, 0, 1, 0, 1, 2, 4, 0, 1, 2, 0, 3, 1, 0, 1, 1, 0, 0]\n",
      "[1, 0, 0, 0, 1, 0, 0, 0, 0, 0, 0, 1, 0, 0, 0, 2, 0, 0, 0, 0, 0, 0, 0, 0, 0, 0]\n"
     ]
    }
   ],
   "source": [
    "def frequencies(strr):\n",
    "    letters = \"abcdefghijklmnopqrstuvwxyz\" \n",
    "    #arr = [0,0,0,0,0,0,0,0,0,0,0,0,0,0,0,0,0,0,0,0,0,0,0,0,0,0]\n",
    "    arr = [0] * 26\n",
    "    strr = strr.lower()\n",
    "    \n",
    "    for i in range(len(strr)):\n",
    "        for j in range(len(letters)):\n",
    "            if(strr[i] == letters[j]):\n",
    "                arr[j] = arr[j] + 1\n",
    "            j = j + 1\n",
    "        i = i + 1\n",
    "    print(arr)\n",
    "                \n",
    "frequencies(\"The quick red fox got bored and went home\")\n",
    "frequencies(\"apple\")"
   ]
  }
 ],
 "metadata": {
  "kernelspec": {
   "display_name": "Python 3",
   "language": "python",
   "name": "python3"
  },
  "language_info": {
   "codemirror_mode": {
    "name": "ipython",
    "version": 3
   },
   "file_extension": ".py",
   "mimetype": "text/x-python",
   "name": "python",
   "nbconvert_exporter": "python",
   "pygments_lexer": "ipython3",
   "version": "3.8.8"
  }
 },
 "nbformat": 4,
 "nbformat_minor": 5
}
